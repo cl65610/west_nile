{
 "cells": [
  {
   "cell_type": "markdown",
   "metadata": {},
   "source": [
    "# Notes from initial research phase"
   ]
  },
  {
   "cell_type": "markdown",
   "metadata": {
    "collapsed": true
   },
   "source": [
    "   For our initial exploratory data analysis, we began by downloading all neccessary datasets and importing them into an ipython notebook. We first looked at very general properties of these datasets, meaning things like data types, count of null values, dataframe size, and so on. This was to help us familiarize ourselves with the data we would be working with. After going through those exploratory measures, we made a few plots that we thought could help us see correlation within the data and between certain feaures. We utilized mostly seaborn pairplots and swarmplots for this.  \n",
    "   \n",
    "   After this was finished, we created a database in psql in order to import our newly formed dataframes as tables so that we could prepare for further querying and investigating of the data utilizing sql."
   ]
  },
  {
   "cell_type": "markdown",
   "metadata": {},
   "source": [
    "## Spray Data Overviews  \n",
    "\n",
    "There was not a whole lot to take away from the initial investigation into the spraying data, since there are only 4 features where two of them are latitude and longitude, with the other two being date and time. The main take away was the fact that there were only 10 distinct values in the date column, meaning that sprays only occured over a total of 10 distinct days within the entire time frame (2007 - 2013). I was, however, able to create a few visualizations in Tableau that illustrate where the sprays occured within the city, and how those locations relate to median household income for the area. These visualizations can be found in the assets portion of our repo."
   ]
  },
  {
   "cell_type": "markdown",
   "metadata": {},
   "source": [
    "## Weather Data Overview  \n",
    "\n",
    "Building a pairplot for the weather dataframe was very helpful for seeing some general trends within the data (this can be seen in the research folder of our repo in an ipython notebook). Features like temperature and dewpoint, as well as min temperature and max temperature were extremely correlated. We were also able to tell, from looking at the number of unique values in the column, that there were only two weather stations in use for collecting weather information across the city (at least there were contributing to this dataset). This dataframe will need some cleaning and wrangling as there are lots of data types that need to be changed in order to gain more meaningful insights. "
   ]
  },
  {
   "cell_type": "markdown",
   "metadata": {},
   "source": [
    "## Training Data Overview  \n",
    "\n",
    "This dataset was the one that contained all the information on the mosqito populations in the city, including features like the number of mosqitos caught for each sample being measured, and the number of mosqitos carrying West Nile Virus. We were able to see that 136 different traps (and satellite traps) were used for the project, and that out of about 10,500 traps collected, only around 550 contained West Nile. We found that about 135,000 mosqitos in total were observed during this project as well. Our swarmplot that we created told us that the main concentration of West Nile appearances were in the lower numbered blocks in the city. After some plotting and further digging, we were able to see that our training data only contains information from the years 2007, 2009, 2011, and 2013. Further cleaning and manipulation will need to be carried out."
   ]
  },
  {
   "cell_type": "code",
   "execution_count": null,
   "metadata": {
    "collapsed": true
   },
   "outputs": [],
   "source": []
  }
 ],
 "metadata": {
  "kernelspec": {
   "display_name": "Python 2",
   "language": "python",
   "name": "python2"
  },
  "language_info": {
   "codemirror_mode": {
    "name": "ipython",
    "version": 2
   },
   "file_extension": ".py",
   "mimetype": "text/x-python",
   "name": "python",
   "nbconvert_exporter": "python",
   "pygments_lexer": "ipython2",
   "version": "2.7.11"
  }
 },
 "nbformat": 4,
 "nbformat_minor": 0
}
