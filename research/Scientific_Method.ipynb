{
 "cells": [
  {
   "cell_type": "markdown",
   "metadata": {},
   "source": [
    "# The West Nile Virus Project\n",
    "## Problem Statement"
   ]
  },
  {
   "cell_type": "markdown",
   "metadata": {},
   "source": [
    "One vital measure of any city's administration has to be how well or poorly they provide for the safety of their citizens. There are many different things that encompass safety. Some of them are obvious. Things like the police force, the fire department, emergency response services jump out as critical elements of public safety. It's important not to take for granted the other, less obvious things that factor into a city's overall well-being. Public health is one of those things. It's certainly not flashy, and its successes go unnoticed while its failures are broadcast far and wide. The spread of the West Nile Virus is an issue that many Chicagoans were surprised to face, and the grave nature of the virus exacerbated citizens' concerns. The Department of Public Health was called on to act, and will likely be called on to act similarly in future outbreaks. Our task today is to help make sure that Public Health is maximizing its resources in the fight against mosquitoes.\n",
    "\n",
    "One of the difficult decisions that the Department of Public Health faces in any public health situation is resource allocation. For our purposes, that means tough decisions about how to target a seemingly unpredictable mosquito population. Accurately targeting where and when mosquito populations are likely to bloom means that there will be fewer environmental infection vectors. That leads to fewer overall infections, and fewer deaths from viral complications. Enter data science. \n",
    "\n",
    "Using the power of predictive modeling, our team will provide guidance to the city of Chicago. This guidance will take the form of detailed recommendations about which neighborhoods to target, and, if seasonality trends can be established, which times of year wide spraying would be most beneficial. Our analyses will take into account many different environmental factors to make sure that as much of the variance in mosquito populations can be explained."
   ]
  },
  {
   "cell_type": "markdown",
   "metadata": {},
   "source": [
    "## What we hope to learn from the data"
   ]
  },
  {
   "cell_type": "markdown",
   "metadata": {},
   "source": [
    "On top of our overall goals of establishing a model to accurately predict mosquito populations, we also seek to understand the answers to several fundamental questions: \n",
    "   - To what extent can mosquito population movement and growth be modeled?\n",
    "   - What effect does spraying have on mosquito populations?\n",
    "   - What effect, if any do variations in temperature and humidity have on mosquito population?\n",
    "   - Does an area's population density have an effect on how many mosquitoes are captured there?\n",
    "   - Does a neighborhood's primary use (ie. residential, commercial, or mixed) have on mosquito  populations and West Nile Outbreaks? "
   ]
  },
  {
   "cell_type": "markdown",
   "metadata": {},
   "source": [
    "## Working Hypothesis"
   ]
  },
  {
   "cell_type": "markdown",
   "metadata": {},
   "source": [
    "Mosquito population growth is determined by a combination of many different factors, chief among these are precipitation rates, humidity, and temperature. Mosquito populations will spike in the days following a rainstorm, especially those that are warm and humid. "
   ]
  },
  {
   "cell_type": "code",
   "execution_count": null,
   "metadata": {
    "collapsed": true
   },
   "outputs": [],
   "source": []
  }
 ],
 "metadata": {
  "kernelspec": {
   "display_name": "Python 2",
   "language": "python",
   "name": "python2"
  },
  "language_info": {
   "codemirror_mode": {
    "name": "ipython",
    "version": 2
   },
   "file_extension": ".py",
   "mimetype": "text/x-python",
   "name": "python",
   "nbconvert_exporter": "python",
   "pygments_lexer": "ipython2",
   "version": "2.7.11"
  }
 },
 "nbformat": 4,
 "nbformat_minor": 0
}
