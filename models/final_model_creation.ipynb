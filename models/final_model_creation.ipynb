{
 "cells": [
  {
   "cell_type": "code",
   "execution_count": 40,
   "metadata": {
    "collapsed": true
   },
   "outputs": [],
   "source": [
    "from sklearn.cluster import DBSCAN\n",
    "from sklearn import metrics\n",
    "import pandas as pd\n",
    "import matplotlib.pyplot as plt\n",
    "from sklearn.svm import SVC\n",
    "from sklearn.cross_validation import cross_val_score, cross_val_predict, train_test_split\n",
    "from sklearn.grid_search import GridSearchCV\n",
    "from sklearn.neighbors import KNeighborsClassifier\n",
    "from sklearn.ensemble import RandomForestClassifier\n",
    "from pymongo import *\n",
    "from mpl_toolkits.basemap import Basemap\n",
    "from sklearn.linear_model import LogisticRegression\n",
    "from sklearn.ensemble import ExtraTreesClassifier, GradientBoostingClassifier\n",
    "\n",
    "%matplotlib inline"
   ]
  },
  {
   "cell_type": "code",
   "execution_count": 41,
   "metadata": {
    "collapsed": true
   },
   "outputs": [],
   "source": [
    "# Import the spray data so that we can perform clustering analysis on it.\n",
    "df = pd.read_csv('https://raw.githubusercontent.com/cl65610/west_nile/master/assets/spray.csv')"
   ]
  },
  {
   "cell_type": "code",
   "execution_count": 42,
   "metadata": {
    "collapsed": false
   },
   "outputs": [
    {
     "data": {
      "text/html": [
       "<div>\n",
       "<table border=\"1\" class=\"dataframe\">\n",
       "  <thead>\n",
       "    <tr style=\"text-align: right;\">\n",
       "      <th></th>\n",
       "      <th>Date</th>\n",
       "      <th>Time</th>\n",
       "      <th>Latitude</th>\n",
       "      <th>Longitude</th>\n",
       "    </tr>\n",
       "  </thead>\n",
       "  <tbody>\n",
       "    <tr>\n",
       "      <th>0</th>\n",
       "      <td>2011-08-29</td>\n",
       "      <td>6:56:58 PM</td>\n",
       "      <td>42.391623</td>\n",
       "      <td>-88.089163</td>\n",
       "    </tr>\n",
       "    <tr>\n",
       "      <th>1</th>\n",
       "      <td>2011-08-29</td>\n",
       "      <td>6:57:08 PM</td>\n",
       "      <td>42.391348</td>\n",
       "      <td>-88.089163</td>\n",
       "    </tr>\n",
       "    <tr>\n",
       "      <th>2</th>\n",
       "      <td>2011-08-29</td>\n",
       "      <td>6:57:18 PM</td>\n",
       "      <td>42.391022</td>\n",
       "      <td>-88.089157</td>\n",
       "    </tr>\n",
       "    <tr>\n",
       "      <th>3</th>\n",
       "      <td>2011-08-29</td>\n",
       "      <td>6:57:28 PM</td>\n",
       "      <td>42.390637</td>\n",
       "      <td>-88.089158</td>\n",
       "    </tr>\n",
       "    <tr>\n",
       "      <th>4</th>\n",
       "      <td>2011-08-29</td>\n",
       "      <td>6:57:38 PM</td>\n",
       "      <td>42.390410</td>\n",
       "      <td>-88.088858</td>\n",
       "    </tr>\n",
       "  </tbody>\n",
       "</table>\n",
       "</div>"
      ],
      "text/plain": [
       "         Date        Time   Latitude  Longitude\n",
       "0  2011-08-29  6:56:58 PM  42.391623 -88.089163\n",
       "1  2011-08-29  6:57:08 PM  42.391348 -88.089163\n",
       "2  2011-08-29  6:57:18 PM  42.391022 -88.089157\n",
       "3  2011-08-29  6:57:28 PM  42.390637 -88.089158\n",
       "4  2011-08-29  6:57:38 PM  42.390410 -88.088858"
      ]
     },
     "execution_count": 42,
     "metadata": {},
     "output_type": "execute_result"
    }
   ],
   "source": [
    "df.head()"
   ]
  },
  {
   "cell_type": "code",
   "execution_count": 43,
   "metadata": {
    "collapsed": true
   },
   "outputs": [],
   "source": [
    "# Set our features for this clustering. \n",
    "X = df[['Longitude', 'Latitude']]"
   ]
  },
  {
   "cell_type": "code",
   "execution_count": 44,
   "metadata": {
    "collapsed": true
   },
   "outputs": [],
   "source": [
    "# After much tinkering, these parameters gave us what appeared to be an ideal number of groups\n",
    "dbscn = DBSCAN(eps = .0049, min_samples = 80).fit(X)  \n",
    "labels = dbscn.labels_"
   ]
  },
  {
   "cell_type": "code",
   "execution_count": 45,
   "metadata": {
    "collapsed": false
   },
   "outputs": [
    {
     "name": "stdout",
     "output_type": "stream",
     "text": [
      "This DBSCAN results in the creation of 15 different labels.\n"
     ]
    }
   ],
   "source": [
    "print 'This DBSCAN results in the creation of %d different labels.' % len(set(labels))"
   ]
  },
  {
   "cell_type": "code",
   "execution_count": 46,
   "metadata": {
    "collapsed": true
   },
   "outputs": [],
   "source": [
    "# We will now treat these labels as a new feature of our data. Attaching them to our original dataframe will allow us to \n",
    "# plot them and visualize our accuracy.\n",
    "labels_df = pd.DataFrame(labels.reshape(14835,1), columns = ['labels'])"
   ]
  },
  {
   "cell_type": "code",
   "execution_count": 47,
   "metadata": {
    "collapsed": false
   },
   "outputs": [
    {
     "data": {
      "text/html": [
       "<div>\n",
       "<table border=\"1\" class=\"dataframe\">\n",
       "  <thead>\n",
       "    <tr style=\"text-align: right;\">\n",
       "      <th></th>\n",
       "      <th>Date</th>\n",
       "      <th>Time</th>\n",
       "      <th>Latitude</th>\n",
       "      <th>Longitude</th>\n",
       "      <th>labels</th>\n",
       "    </tr>\n",
       "  </thead>\n",
       "  <tbody>\n",
       "    <tr>\n",
       "      <th>0</th>\n",
       "      <td>2011-08-29</td>\n",
       "      <td>6:56:58 PM</td>\n",
       "      <td>42.391623</td>\n",
       "      <td>-88.089163</td>\n",
       "      <td>0</td>\n",
       "    </tr>\n",
       "    <tr>\n",
       "      <th>1</th>\n",
       "      <td>2011-08-29</td>\n",
       "      <td>6:57:08 PM</td>\n",
       "      <td>42.391348</td>\n",
       "      <td>-88.089163</td>\n",
       "      <td>0</td>\n",
       "    </tr>\n",
       "    <tr>\n",
       "      <th>2</th>\n",
       "      <td>2011-08-29</td>\n",
       "      <td>6:57:18 PM</td>\n",
       "      <td>42.391022</td>\n",
       "      <td>-88.089157</td>\n",
       "      <td>0</td>\n",
       "    </tr>\n",
       "    <tr>\n",
       "      <th>3</th>\n",
       "      <td>2011-08-29</td>\n",
       "      <td>6:57:28 PM</td>\n",
       "      <td>42.390637</td>\n",
       "      <td>-88.089158</td>\n",
       "      <td>0</td>\n",
       "    </tr>\n",
       "    <tr>\n",
       "      <th>4</th>\n",
       "      <td>2011-08-29</td>\n",
       "      <td>6:57:38 PM</td>\n",
       "      <td>42.390410</td>\n",
       "      <td>-88.088858</td>\n",
       "      <td>0</td>\n",
       "    </tr>\n",
       "  </tbody>\n",
       "</table>\n",
       "</div>"
      ],
      "text/plain": [
       "         Date        Time   Latitude  Longitude  labels\n",
       "0  2011-08-29  6:56:58 PM  42.391623 -88.089163       0\n",
       "1  2011-08-29  6:57:08 PM  42.391348 -88.089163       0\n",
       "2  2011-08-29  6:57:18 PM  42.391022 -88.089157       0\n",
       "3  2011-08-29  6:57:28 PM  42.390637 -88.089158       0\n",
       "4  2011-08-29  6:57:38 PM  42.390410 -88.088858       0"
      ]
     },
     "execution_count": 47,
     "metadata": {},
     "output_type": "execute_result"
    }
   ],
   "source": [
    "# This merged dataframe is also the dataframe that we'll send up to sql to be joined on. \n",
    "merged_df = df.join(labels_df)\n",
    "merged_df.head()"
   ]
  },
  {
   "cell_type": "code",
   "execution_count": 48,
   "metadata": {
    "collapsed": true
   },
   "outputs": [],
   "source": [
    "X = merged_df[['Latitude', 'Longitude']]\n",
    "y = merged_df['labels']"
   ]
  },
  {
   "cell_type": "code",
   "execution_count": 49,
   "metadata": {
    "collapsed": false
   },
   "outputs": [
    {
     "name": "stdout",
     "output_type": "stream",
     "text": [
      "The score for our Extra Trees model is 1.00000.\n"
     ]
    }
   ],
   "source": [
    "from sklearn.ensemble import ExtraTreesClassifier\n",
    "etc = ExtraTreesClassifier()\n",
    "etc_fit = etc.fit(X, y)\n",
    "print 'The score for our Extra Trees model is %.5f.' % etc.score(X, y)"
   ]
  },
  {
   "cell_type": "code",
   "execution_count": 50,
   "metadata": {
    "collapsed": true
   },
   "outputs": [],
   "source": [
    "# In order to test our accuracy, we will import our train data, apply the fit, and check visually to see how well our\n",
    "# classifier performs.\n",
    "train_df = pd.read_csv('https://raw.githubusercontent.com/cl65610/west_nile/master/assets/joined_pca.csv')"
   ]
  },
  {
   "cell_type": "code",
   "execution_count": 51,
   "metadata": {
    "collapsed": true
   },
   "outputs": [],
   "source": [
    "# As above, our features for this will be latitude and longitude. \n",
    "X2 = train_df[['Latitude', 'Longitude']]"
   ]
  },
  {
   "cell_type": "code",
   "execution_count": 52,
   "metadata": {
    "collapsed": true
   },
   "outputs": [],
   "source": [
    "# Here we predict what our train data spray zones will be and set those results equal to a dataframe that we can then join \n",
    "# onto our training data.\n",
    "label_predicts = etc_fit.predict(X2)\n",
    "xt_labels = pd.DataFrame(label_predicts, columns = ['xt_labels'])"
   ]
  },
  {
   "cell_type": "code",
   "execution_count": 53,
   "metadata": {
    "collapsed": true
   },
   "outputs": [],
   "source": [
    "labeled_df = train_df.join(xt_labels)"
   ]
  },
  {
   "cell_type": "code",
   "execution_count": 54,
   "metadata": {
    "collapsed": false
   },
   "outputs": [
    {
     "name": "stdout",
     "output_type": "stream",
     "text": [
      "(10506, 27)\n"
     ]
    },
    {
     "data": {
      "text/html": [
       "<div>\n",
       "<table border=\"1\" class=\"dataframe\">\n",
       "  <thead>\n",
       "    <tr style=\"text-align: right;\">\n",
       "      <th></th>\n",
       "      <th>Unnamed: 0</th>\n",
       "      <th>Date</th>\n",
       "      <th>Species</th>\n",
       "      <th>Trap</th>\n",
       "      <th>Latitude</th>\n",
       "      <th>Longitude</th>\n",
       "      <th>AddressAccuracy</th>\n",
       "      <th>NumMosquitos</th>\n",
       "      <th>WnvPresent</th>\n",
       "      <th>day</th>\n",
       "      <th>...</th>\n",
       "      <th>PrecipTotal</th>\n",
       "      <th>Sunrise</th>\n",
       "      <th>Sunset</th>\n",
       "      <th>month_weather</th>\n",
       "      <th>day_weather</th>\n",
       "      <th>pca1</th>\n",
       "      <th>pca2</th>\n",
       "      <th>pca3</th>\n",
       "      <th>pca4</th>\n",
       "      <th>xt_labels</th>\n",
       "    </tr>\n",
       "  </thead>\n",
       "  <tbody>\n",
       "    <tr>\n",
       "      <th>0</th>\n",
       "      <td>0</td>\n",
       "      <td>2007-05-29</td>\n",
       "      <td>2</td>\n",
       "      <td>1</td>\n",
       "      <td>41.954690</td>\n",
       "      <td>-87.800991</td>\n",
       "      <td>9</td>\n",
       "      <td>1</td>\n",
       "      <td>0</td>\n",
       "      <td>179</td>\n",
       "      <td>...</td>\n",
       "      <td>0.0</td>\n",
       "      <td>421.0</td>\n",
       "      <td>1917.0</td>\n",
       "      <td>5.0</td>\n",
       "      <td>179.0</td>\n",
       "      <td>-0.663872</td>\n",
       "      <td>3.033573</td>\n",
       "      <td>-1.434144</td>\n",
       "      <td>1.092123</td>\n",
       "      <td>7</td>\n",
       "    </tr>\n",
       "    <tr>\n",
       "      <th>1</th>\n",
       "      <td>1</td>\n",
       "      <td>2007-05-29</td>\n",
       "      <td>3</td>\n",
       "      <td>1</td>\n",
       "      <td>41.954690</td>\n",
       "      <td>-87.800991</td>\n",
       "      <td>9</td>\n",
       "      <td>1</td>\n",
       "      <td>0</td>\n",
       "      <td>179</td>\n",
       "      <td>...</td>\n",
       "      <td>0.0</td>\n",
       "      <td>421.0</td>\n",
       "      <td>1917.0</td>\n",
       "      <td>5.0</td>\n",
       "      <td>179.0</td>\n",
       "      <td>-0.663872</td>\n",
       "      <td>3.033573</td>\n",
       "      <td>-1.434144</td>\n",
       "      <td>1.092123</td>\n",
       "      <td>7</td>\n",
       "    </tr>\n",
       "    <tr>\n",
       "      <th>2</th>\n",
       "      <td>2</td>\n",
       "      <td>2007-05-29</td>\n",
       "      <td>3</td>\n",
       "      <td>6</td>\n",
       "      <td>41.994991</td>\n",
       "      <td>-87.769279</td>\n",
       "      <td>9</td>\n",
       "      <td>1</td>\n",
       "      <td>0</td>\n",
       "      <td>179</td>\n",
       "      <td>...</td>\n",
       "      <td>0.0</td>\n",
       "      <td>421.0</td>\n",
       "      <td>1917.0</td>\n",
       "      <td>5.0</td>\n",
       "      <td>179.0</td>\n",
       "      <td>-0.663872</td>\n",
       "      <td>3.033573</td>\n",
       "      <td>-1.434144</td>\n",
       "      <td>1.092123</td>\n",
       "      <td>2</td>\n",
       "    </tr>\n",
       "    <tr>\n",
       "      <th>3</th>\n",
       "      <td>3</td>\n",
       "      <td>2007-05-29</td>\n",
       "      <td>2</td>\n",
       "      <td>13</td>\n",
       "      <td>41.974089</td>\n",
       "      <td>-87.824812</td>\n",
       "      <td>8</td>\n",
       "      <td>1</td>\n",
       "      <td>0</td>\n",
       "      <td>179</td>\n",
       "      <td>...</td>\n",
       "      <td>0.0</td>\n",
       "      <td>421.0</td>\n",
       "      <td>1917.0</td>\n",
       "      <td>5.0</td>\n",
       "      <td>179.0</td>\n",
       "      <td>-0.663872</td>\n",
       "      <td>3.033573</td>\n",
       "      <td>-1.434144</td>\n",
       "      <td>1.092123</td>\n",
       "      <td>1</td>\n",
       "    </tr>\n",
       "    <tr>\n",
       "      <th>4</th>\n",
       "      <td>4</td>\n",
       "      <td>2007-05-29</td>\n",
       "      <td>3</td>\n",
       "      <td>13</td>\n",
       "      <td>41.974089</td>\n",
       "      <td>-87.824812</td>\n",
       "      <td>8</td>\n",
       "      <td>4</td>\n",
       "      <td>0</td>\n",
       "      <td>179</td>\n",
       "      <td>...</td>\n",
       "      <td>0.0</td>\n",
       "      <td>421.0</td>\n",
       "      <td>1917.0</td>\n",
       "      <td>5.0</td>\n",
       "      <td>179.0</td>\n",
       "      <td>-0.663872</td>\n",
       "      <td>3.033573</td>\n",
       "      <td>-1.434144</td>\n",
       "      <td>1.092123</td>\n",
       "      <td>1</td>\n",
       "    </tr>\n",
       "  </tbody>\n",
       "</table>\n",
       "<p>5 rows × 27 columns</p>\n",
       "</div>"
      ],
      "text/plain": [
       "   Unnamed: 0        Date  Species  Trap   Latitude  Longitude  \\\n",
       "0           0  2007-05-29        2     1  41.954690 -87.800991   \n",
       "1           1  2007-05-29        3     1  41.954690 -87.800991   \n",
       "2           2  2007-05-29        3     6  41.994991 -87.769279   \n",
       "3           3  2007-05-29        2    13  41.974089 -87.824812   \n",
       "4           4  2007-05-29        3    13  41.974089 -87.824812   \n",
       "\n",
       "   AddressAccuracy  NumMosquitos  WnvPresent  day    ...      PrecipTotal  \\\n",
       "0                9             1           0  179    ...              0.0   \n",
       "1                9             1           0  179    ...              0.0   \n",
       "2                9             1           0  179    ...              0.0   \n",
       "3                8             1           0  179    ...              0.0   \n",
       "4                8             4           0  179    ...              0.0   \n",
       "\n",
       "   Sunrise  Sunset  month_weather  day_weather      pca1      pca2      pca3  \\\n",
       "0    421.0  1917.0            5.0        179.0 -0.663872  3.033573 -1.434144   \n",
       "1    421.0  1917.0            5.0        179.0 -0.663872  3.033573 -1.434144   \n",
       "2    421.0  1917.0            5.0        179.0 -0.663872  3.033573 -1.434144   \n",
       "3    421.0  1917.0            5.0        179.0 -0.663872  3.033573 -1.434144   \n",
       "4    421.0  1917.0            5.0        179.0 -0.663872  3.033573 -1.434144   \n",
       "\n",
       "       pca4  xt_labels  \n",
       "0  1.092123          7  \n",
       "1  1.092123          7  \n",
       "2  1.092123          2  \n",
       "3  1.092123          1  \n",
       "4  1.092123          1  \n",
       "\n",
       "[5 rows x 27 columns]"
      ]
     },
     "execution_count": 54,
     "metadata": {},
     "output_type": "execute_result"
    }
   ],
   "source": [
    "print labeled_df.shape\n",
    "labeled_df.head()"
   ]
  },
  {
   "cell_type": "code",
   "execution_count": 55,
   "metadata": {
    "collapsed": true
   },
   "outputs": [],
   "source": [
    "from sklearn.preprocessing import scale"
   ]
  },
  {
   "cell_type": "code",
   "execution_count": 56,
   "metadata": {
    "collapsed": false
   },
   "outputs": [],
   "source": [
    "features = ['Species', 'Trap', 'Latitude', 'Longitude', 'AddressAccuracy', 'day_weather', 'PrecipTotal', \n",
    "           'pca1', 'pca2', 'pca3', 'pca4', 'xt_labels', 'year']\n",
    "#X = scale(labeled_df[features])\n",
    "X = labeled_df[features]\n",
    "y = labeled_df.WnvPresent"
   ]
  },
  {
   "cell_type": "code",
   "execution_count": 58,
   "metadata": {
    "collapsed": true
   },
   "outputs": [],
   "source": [
    "## this is the dataframe will will be building all our models off of, exporting to csv\n",
    "\n",
    "labeled_df.to_csv('model_building_df.csv')"
   ]
  },
  {
   "cell_type": "code",
   "execution_count": 18,
   "metadata": {
    "collapsed": false
   },
   "outputs": [
    {
     "data": {
      "text/html": [
       "<div>\n",
       "<table border=\"1\" class=\"dataframe\">\n",
       "  <thead>\n",
       "    <tr style=\"text-align: right;\">\n",
       "      <th></th>\n",
       "      <th>Species</th>\n",
       "      <th>Trap</th>\n",
       "      <th>Latitude</th>\n",
       "      <th>Longitude</th>\n",
       "      <th>AddressAccuracy</th>\n",
       "      <th>day_weather</th>\n",
       "      <th>PrecipTotal</th>\n",
       "      <th>pca1</th>\n",
       "      <th>pca2</th>\n",
       "      <th>pca3</th>\n",
       "      <th>pca4</th>\n",
       "      <th>xt_labels</th>\n",
       "      <th>year</th>\n",
       "    </tr>\n",
       "  </thead>\n",
       "  <tbody>\n",
       "    <tr>\n",
       "      <th>0</th>\n",
       "      <td>2</td>\n",
       "      <td>1</td>\n",
       "      <td>41.954690</td>\n",
       "      <td>-87.800991</td>\n",
       "      <td>9</td>\n",
       "      <td>179.0</td>\n",
       "      <td>0.0</td>\n",
       "      <td>-0.663872</td>\n",
       "      <td>3.033573</td>\n",
       "      <td>-1.434144</td>\n",
       "      <td>1.092123</td>\n",
       "      <td>7</td>\n",
       "      <td>2007</td>\n",
       "    </tr>\n",
       "    <tr>\n",
       "      <th>1</th>\n",
       "      <td>3</td>\n",
       "      <td>1</td>\n",
       "      <td>41.954690</td>\n",
       "      <td>-87.800991</td>\n",
       "      <td>9</td>\n",
       "      <td>179.0</td>\n",
       "      <td>0.0</td>\n",
       "      <td>-0.663872</td>\n",
       "      <td>3.033573</td>\n",
       "      <td>-1.434144</td>\n",
       "      <td>1.092123</td>\n",
       "      <td>7</td>\n",
       "      <td>2007</td>\n",
       "    </tr>\n",
       "    <tr>\n",
       "      <th>2</th>\n",
       "      <td>3</td>\n",
       "      <td>6</td>\n",
       "      <td>41.994991</td>\n",
       "      <td>-87.769279</td>\n",
       "      <td>9</td>\n",
       "      <td>179.0</td>\n",
       "      <td>0.0</td>\n",
       "      <td>-0.663872</td>\n",
       "      <td>3.033573</td>\n",
       "      <td>-1.434144</td>\n",
       "      <td>1.092123</td>\n",
       "      <td>2</td>\n",
       "      <td>2007</td>\n",
       "    </tr>\n",
       "    <tr>\n",
       "      <th>3</th>\n",
       "      <td>2</td>\n",
       "      <td>13</td>\n",
       "      <td>41.974089</td>\n",
       "      <td>-87.824812</td>\n",
       "      <td>8</td>\n",
       "      <td>179.0</td>\n",
       "      <td>0.0</td>\n",
       "      <td>-0.663872</td>\n",
       "      <td>3.033573</td>\n",
       "      <td>-1.434144</td>\n",
       "      <td>1.092123</td>\n",
       "      <td>1</td>\n",
       "      <td>2007</td>\n",
       "    </tr>\n",
       "    <tr>\n",
       "      <th>4</th>\n",
       "      <td>3</td>\n",
       "      <td>13</td>\n",
       "      <td>41.974089</td>\n",
       "      <td>-87.824812</td>\n",
       "      <td>8</td>\n",
       "      <td>179.0</td>\n",
       "      <td>0.0</td>\n",
       "      <td>-0.663872</td>\n",
       "      <td>3.033573</td>\n",
       "      <td>-1.434144</td>\n",
       "      <td>1.092123</td>\n",
       "      <td>1</td>\n",
       "      <td>2007</td>\n",
       "    </tr>\n",
       "  </tbody>\n",
       "</table>\n",
       "</div>"
      ],
      "text/plain": [
       "   Species  Trap   Latitude  Longitude  AddressAccuracy  day_weather  \\\n",
       "0        2     1  41.954690 -87.800991                9        179.0   \n",
       "1        3     1  41.954690 -87.800991                9        179.0   \n",
       "2        3     6  41.994991 -87.769279                9        179.0   \n",
       "3        2    13  41.974089 -87.824812                8        179.0   \n",
       "4        3    13  41.974089 -87.824812                8        179.0   \n",
       "\n",
       "   PrecipTotal      pca1      pca2      pca3      pca4  xt_labels  year  \n",
       "0          0.0 -0.663872  3.033573 -1.434144  1.092123          7  2007  \n",
       "1          0.0 -0.663872  3.033573 -1.434144  1.092123          7  2007  \n",
       "2          0.0 -0.663872  3.033573 -1.434144  1.092123          2  2007  \n",
       "3          0.0 -0.663872  3.033573 -1.434144  1.092123          1  2007  \n",
       "4          0.0 -0.663872  3.033573 -1.434144  1.092123          1  2007  "
      ]
     },
     "execution_count": 18,
     "metadata": {},
     "output_type": "execute_result"
    }
   ],
   "source": [
    "X = pd.DataFrame(X, columns = features)\n",
    "X.head()"
   ]
  },
  {
   "cell_type": "code",
   "execution_count": 19,
   "metadata": {
    "collapsed": false
   },
   "outputs": [],
   "source": [
    "knn = KNeighborsClassifier()\n",
    "lr = LogisticRegression(random_state = 42)\n",
    "svm = SVC(probability = True, random_state = 42)\n",
    "rf = RandomForestClassifier(random_state = 42)\n",
    "etc = ExtraTreesClassifier(random_state = 42)\n",
    "gbc = GradientBoostingClassifier(random_state = 42)"
   ]
  },
  {
   "cell_type": "code",
   "execution_count": 20,
   "metadata": {
    "collapsed": false
   },
   "outputs": [
    {
     "name": "stdout",
     "output_type": "stream",
     "text": [
      "0.967542356749\n"
     ]
    }
   ],
   "source": [
    "from sklearn.ensemble import VotingClassifier\n",
    "\n",
    "voter = VotingClassifier(estimators = [('knn', knn),\n",
    "                                       ('lr', lr),\n",
    "                                       ('extra trees', etc),\n",
    "                                       ('random forest', rf),\n",
    "                                       ('svm', svm),\n",
    "                                       ('gbc', gbc)\n",
    "                                      ],\n",
    "                        voting = 'soft', weights = [1, 1, 3, 1, 1, 2])\n",
    "\n",
    "voter_fit = voter.fit(X, y)\n",
    "print voter.score(X, y)\n",
    "\n",
    "predicts = voter.predict_proba(X)\n",
    "pred_proba = predicts[:,1]"
   ]
  },
  {
   "cell_type": "code",
   "execution_count": 39,
   "metadata": {
    "collapsed": false
   },
   "outputs": [
    {
     "data": {
      "image/png": "[encoded data removed]",
      "text/plain": [
       "<matplotlib.figure.Figure at 0x11930fc50>"
      ]
     },
     "metadata": {},
     "output_type": "display_data"
    }
   ],
   "source": [
    "from sklearn.metrics import roc_curve\n",
    "\n",
    "fpr, tpr, _ = metrics.roc_curve(y, pred_proba)\n",
    "\n",
    "plt.style.use('fivethirtyeight')\n",
    "\n",
    "auc = metrics.auc(fpr, tpr)\n",
    "\n",
    "plt.plot(fpr, tpr, label=\"Voting Classifier\")\n",
    "plt.xlim([-.05, 1.0])\n",
    "plt.ylim([-.05, 1.0])\n",
    "plt.xlabel('False Positive Rate (1 - Specificity)')\n",
    "plt.ylabel('True Positive Rate (Sensitivity)')\n",
    "plt.title('AUC: %f' % auc)\n",
    "\n",
    "plt.show()"
   ]
  },
  {
   "cell_type": "code",
   "execution_count": 22,
   "metadata": {
    "collapsed": false
   },
   "outputs": [],
   "source": [
    "## ATTEMPT TO GRID SEARCH THE VOTING CLASSIFIER\n",
    "\n",
    "# from sklearn.grid_search import GridSearchCV\n",
    "\n",
    "# voter_grid = VotingClassifier(estimators = )\n",
    "\n",
    "# params = {'estimators':[('knn', knn), ('etc', etc)], 'voting':['soft', 'hard'], 'weights':[1, 2, 3]}\n",
    "\n",
    "# vote_gscv = GridSearchCV(voter_grid, param_grid = params, cv = 2)\n",
    "# vote_grid_fit = vote_gscv.fit(X, y)\n",
    "\n",
    "# print vote_grid_fit.best_score_\n",
    "# print\n",
    "# print vote_grid_fit.best_estimator_\n",
    "# print\n",
    "# print vote_grid_fit.best_params_"
   ]
  },
  {
   "cell_type": "code",
   "execution_count": 23,
   "metadata": {
    "collapsed": false
   },
   "outputs": [
    {
     "name": "stdout",
     "output_type": "stream",
     "text": [
      "(116293, 24)\n"
     ]
    },
    {
     "data": {
      "text/html": [
       "<div>\n",
       "<table border=\"1\" class=\"dataframe\">\n",
       "  <thead>\n",
       "    <tr style=\"text-align: right;\">\n",
       "      <th></th>\n",
       "      <th>Unnamed: 0</th>\n",
       "      <th>Date</th>\n",
       "      <th>Species</th>\n",
       "      <th>Trap</th>\n",
       "      <th>Latitude</th>\n",
       "      <th>Longitude</th>\n",
       "      <th>AddressAccuracy</th>\n",
       "      <th>day</th>\n",
       "      <th>month</th>\n",
       "      <th>year</th>\n",
       "      <th>...</th>\n",
       "      <th>DewPoint</th>\n",
       "      <th>PrecipTotal</th>\n",
       "      <th>Sunrise</th>\n",
       "      <th>Sunset</th>\n",
       "      <th>month_weather</th>\n",
       "      <th>day_weather</th>\n",
       "      <th>pca1</th>\n",
       "      <th>pca2</th>\n",
       "      <th>pca3</th>\n",
       "      <th>pca4</th>\n",
       "    </tr>\n",
       "  </thead>\n",
       "  <tbody>\n",
       "    <tr>\n",
       "      <th>0</th>\n",
       "      <td>0</td>\n",
       "      <td>2008-06-11</td>\n",
       "      <td>2</td>\n",
       "      <td>1</td>\n",
       "      <td>41.95469</td>\n",
       "      <td>-87.800991</td>\n",
       "      <td>9</td>\n",
       "      <td>191</td>\n",
       "      <td>6</td>\n",
       "      <td>2008</td>\n",
       "      <td>...</td>\n",
       "      <td>55.5</td>\n",
       "      <td>0.0</td>\n",
       "      <td>416.0</td>\n",
       "      <td>1926.0</td>\n",
       "      <td>6.0</td>\n",
       "      <td>191.0</td>\n",
       "      <td>-1.514379</td>\n",
       "      <td>-1.779891</td>\n",
       "      <td>-0.967131</td>\n",
       "      <td>0.524445</td>\n",
       "    </tr>\n",
       "    <tr>\n",
       "      <th>1</th>\n",
       "      <td>1</td>\n",
       "      <td>2008-06-11</td>\n",
       "      <td>3</td>\n",
       "      <td>1</td>\n",
       "      <td>41.95469</td>\n",
       "      <td>-87.800991</td>\n",
       "      <td>9</td>\n",
       "      <td>191</td>\n",
       "      <td>6</td>\n",
       "      <td>2008</td>\n",
       "      <td>...</td>\n",
       "      <td>55.5</td>\n",
       "      <td>0.0</td>\n",
       "      <td>416.0</td>\n",
       "      <td>1926.0</td>\n",
       "      <td>6.0</td>\n",
       "      <td>191.0</td>\n",
       "      <td>-1.514379</td>\n",
       "      <td>-1.779891</td>\n",
       "      <td>-0.967131</td>\n",
       "      <td>0.524445</td>\n",
       "    </tr>\n",
       "    <tr>\n",
       "      <th>2</th>\n",
       "      <td>2</td>\n",
       "      <td>2008-06-11</td>\n",
       "      <td>1</td>\n",
       "      <td>1</td>\n",
       "      <td>41.95469</td>\n",
       "      <td>-87.800991</td>\n",
       "      <td>9</td>\n",
       "      <td>191</td>\n",
       "      <td>6</td>\n",
       "      <td>2008</td>\n",
       "      <td>...</td>\n",
       "      <td>55.5</td>\n",
       "      <td>0.0</td>\n",
       "      <td>416.0</td>\n",
       "      <td>1926.0</td>\n",
       "      <td>6.0</td>\n",
       "      <td>191.0</td>\n",
       "      <td>-1.514379</td>\n",
       "      <td>-1.779891</td>\n",
       "      <td>-0.967131</td>\n",
       "      <td>0.524445</td>\n",
       "    </tr>\n",
       "    <tr>\n",
       "      <th>3</th>\n",
       "      <td>3</td>\n",
       "      <td>2008-06-11</td>\n",
       "      <td>4</td>\n",
       "      <td>1</td>\n",
       "      <td>41.95469</td>\n",
       "      <td>-87.800991</td>\n",
       "      <td>9</td>\n",
       "      <td>191</td>\n",
       "      <td>6</td>\n",
       "      <td>2008</td>\n",
       "      <td>...</td>\n",
       "      <td>55.5</td>\n",
       "      <td>0.0</td>\n",
       "      <td>416.0</td>\n",
       "      <td>1926.0</td>\n",
       "      <td>6.0</td>\n",
       "      <td>191.0</td>\n",
       "      <td>-1.514379</td>\n",
       "      <td>-1.779891</td>\n",
       "      <td>-0.967131</td>\n",
       "      <td>0.524445</td>\n",
       "    </tr>\n",
       "    <tr>\n",
       "      <th>4</th>\n",
       "      <td>4</td>\n",
       "      <td>2008-06-11</td>\n",
       "      <td>6</td>\n",
       "      <td>1</td>\n",
       "      <td>41.95469</td>\n",
       "      <td>-87.800991</td>\n",
       "      <td>9</td>\n",
       "      <td>191</td>\n",
       "      <td>6</td>\n",
       "      <td>2008</td>\n",
       "      <td>...</td>\n",
       "      <td>55.5</td>\n",
       "      <td>0.0</td>\n",
       "      <td>416.0</td>\n",
       "      <td>1926.0</td>\n",
       "      <td>6.0</td>\n",
       "      <td>191.0</td>\n",
       "      <td>-1.514379</td>\n",
       "      <td>-1.779891</td>\n",
       "      <td>-0.967131</td>\n",
       "      <td>0.524445</td>\n",
       "    </tr>\n",
       "  </tbody>\n",
       "</table>\n",
       "<p>5 rows × 24 columns</p>\n",
       "</div>"
      ],
      "text/plain": [
       "   Unnamed: 0        Date  Species  Trap  Latitude  Longitude  \\\n",
       "0           0  2008-06-11        2     1  41.95469 -87.800991   \n",
       "1           1  2008-06-11        3     1  41.95469 -87.800991   \n",
       "2           2  2008-06-11        1     1  41.95469 -87.800991   \n",
       "3           3  2008-06-11        4     1  41.95469 -87.800991   \n",
       "4           4  2008-06-11        6     1  41.95469 -87.800991   \n",
       "\n",
       "   AddressAccuracy  day  month  year    ...     DewPoint  PrecipTotal  \\\n",
       "0                9  191      6  2008    ...         55.5          0.0   \n",
       "1                9  191      6  2008    ...         55.5          0.0   \n",
       "2                9  191      6  2008    ...         55.5          0.0   \n",
       "3                9  191      6  2008    ...         55.5          0.0   \n",
       "4                9  191      6  2008    ...         55.5          0.0   \n",
       "\n",
       "   Sunrise  Sunset  month_weather  day_weather      pca1      pca2      pca3  \\\n",
       "0    416.0  1926.0            6.0        191.0 -1.514379 -1.779891 -0.967131   \n",
       "1    416.0  1926.0            6.0        191.0 -1.514379 -1.779891 -0.967131   \n",
       "2    416.0  1926.0            6.0        191.0 -1.514379 -1.779891 -0.967131   \n",
       "3    416.0  1926.0            6.0        191.0 -1.514379 -1.779891 -0.967131   \n",
       "4    416.0  1926.0            6.0        191.0 -1.514379 -1.779891 -0.967131   \n",
       "\n",
       "       pca4  \n",
       "0  0.524445  \n",
       "1  0.524445  \n",
       "2  0.524445  \n",
       "3  0.524445  \n",
       "4  0.524445  \n",
       "\n",
       "[5 rows x 24 columns]"
      ]
     },
     "execution_count": 23,
     "metadata": {},
     "output_type": "execute_result"
    }
   ],
   "source": [
    "final_joined_pca = pd.read_csv('/Users/TerryONeill/west_nile/west_nile/assets/final_joined_pca.csv')\n",
    "print final_joined_pca.shape\n",
    "final_joined_pca.head()"
   ]
  },
  {
   "cell_type": "code",
   "execution_count": 24,
   "metadata": {
    "collapsed": false
   },
   "outputs": [
    {
     "name": "stdout",
     "output_type": "stream",
     "text": [
      "(116293, 23)\n"
     ]
    },
    {
     "data": {
      "text/html": [
       "<div>\n",
       "<table border=\"1\" class=\"dataframe\">\n",
       "  <thead>\n",
       "    <tr style=\"text-align: right;\">\n",
       "      <th></th>\n",
       "      <th>Date</th>\n",
       "      <th>Species</th>\n",
       "      <th>Trap</th>\n",
       "      <th>Latitude</th>\n",
       "      <th>Longitude</th>\n",
       "      <th>AddressAccuracy</th>\n",
       "      <th>day</th>\n",
       "      <th>month</th>\n",
       "      <th>year</th>\n",
       "      <th>Tmax</th>\n",
       "      <th>...</th>\n",
       "      <th>DewPoint</th>\n",
       "      <th>PrecipTotal</th>\n",
       "      <th>Sunrise</th>\n",
       "      <th>Sunset</th>\n",
       "      <th>month_weather</th>\n",
       "      <th>day_weather</th>\n",
       "      <th>pca1</th>\n",
       "      <th>pca2</th>\n",
       "      <th>pca3</th>\n",
       "      <th>pca4</th>\n",
       "    </tr>\n",
       "  </thead>\n",
       "  <tbody>\n",
       "    <tr>\n",
       "      <th>0</th>\n",
       "      <td>2008-06-11</td>\n",
       "      <td>2</td>\n",
       "      <td>1</td>\n",
       "      <td>41.95469</td>\n",
       "      <td>-87.800991</td>\n",
       "      <td>9</td>\n",
       "      <td>191</td>\n",
       "      <td>6</td>\n",
       "      <td>2008</td>\n",
       "      <td>86.0</td>\n",
       "      <td>...</td>\n",
       "      <td>55.5</td>\n",
       "      <td>0.0</td>\n",
       "      <td>416.0</td>\n",
       "      <td>1926.0</td>\n",
       "      <td>6.0</td>\n",
       "      <td>191.0</td>\n",
       "      <td>-1.514379</td>\n",
       "      <td>-1.779891</td>\n",
       "      <td>-0.967131</td>\n",
       "      <td>0.524445</td>\n",
       "    </tr>\n",
       "    <tr>\n",
       "      <th>1</th>\n",
       "      <td>2008-06-11</td>\n",
       "      <td>3</td>\n",
       "      <td>1</td>\n",
       "      <td>41.95469</td>\n",
       "      <td>-87.800991</td>\n",
       "      <td>9</td>\n",
       "      <td>191</td>\n",
       "      <td>6</td>\n",
       "      <td>2008</td>\n",
       "      <td>86.0</td>\n",
       "      <td>...</td>\n",
       "      <td>55.5</td>\n",
       "      <td>0.0</td>\n",
       "      <td>416.0</td>\n",
       "      <td>1926.0</td>\n",
       "      <td>6.0</td>\n",
       "      <td>191.0</td>\n",
       "      <td>-1.514379</td>\n",
       "      <td>-1.779891</td>\n",
       "      <td>-0.967131</td>\n",
       "      <td>0.524445</td>\n",
       "    </tr>\n",
       "    <tr>\n",
       "      <th>2</th>\n",
       "      <td>2008-06-11</td>\n",
       "      <td>1</td>\n",
       "      <td>1</td>\n",
       "      <td>41.95469</td>\n",
       "      <td>-87.800991</td>\n",
       "      <td>9</td>\n",
       "      <td>191</td>\n",
       "      <td>6</td>\n",
       "      <td>2008</td>\n",
       "      <td>86.0</td>\n",
       "      <td>...</td>\n",
       "      <td>55.5</td>\n",
       "      <td>0.0</td>\n",
       "      <td>416.0</td>\n",
       "      <td>1926.0</td>\n",
       "      <td>6.0</td>\n",
       "      <td>191.0</td>\n",
       "      <td>-1.514379</td>\n",
       "      <td>-1.779891</td>\n",
       "      <td>-0.967131</td>\n",
       "      <td>0.524445</td>\n",
       "    </tr>\n",
       "    <tr>\n",
       "      <th>3</th>\n",
       "      <td>2008-06-11</td>\n",
       "      <td>4</td>\n",
       "      <td>1</td>\n",
       "      <td>41.95469</td>\n",
       "      <td>-87.800991</td>\n",
       "      <td>9</td>\n",
       "      <td>191</td>\n",
       "      <td>6</td>\n",
       "      <td>2008</td>\n",
       "      <td>86.0</td>\n",
       "      <td>...</td>\n",
       "      <td>55.5</td>\n",
       "      <td>0.0</td>\n",
       "      <td>416.0</td>\n",
       "      <td>1926.0</td>\n",
       "      <td>6.0</td>\n",
       "      <td>191.0</td>\n",
       "      <td>-1.514379</td>\n",
       "      <td>-1.779891</td>\n",
       "      <td>-0.967131</td>\n",
       "      <td>0.524445</td>\n",
       "    </tr>\n",
       "    <tr>\n",
       "      <th>4</th>\n",
       "      <td>2008-06-11</td>\n",
       "      <td>6</td>\n",
       "      <td>1</td>\n",
       "      <td>41.95469</td>\n",
       "      <td>-87.800991</td>\n",
       "      <td>9</td>\n",
       "      <td>191</td>\n",
       "      <td>6</td>\n",
       "      <td>2008</td>\n",
       "      <td>86.0</td>\n",
       "      <td>...</td>\n",
       "      <td>55.5</td>\n",
       "      <td>0.0</td>\n",
       "      <td>416.0</td>\n",
       "      <td>1926.0</td>\n",
       "      <td>6.0</td>\n",
       "      <td>191.0</td>\n",
       "      <td>-1.514379</td>\n",
       "      <td>-1.779891</td>\n",
       "      <td>-0.967131</td>\n",
       "      <td>0.524445</td>\n",
       "    </tr>\n",
       "  </tbody>\n",
       "</table>\n",
       "<p>5 rows × 23 columns</p>\n",
       "</div>"
      ],
      "text/plain": [
       "         Date  Species  Trap  Latitude  Longitude  AddressAccuracy  day  \\\n",
       "0  2008-06-11        2     1  41.95469 -87.800991                9  191   \n",
       "1  2008-06-11        3     1  41.95469 -87.800991                9  191   \n",
       "2  2008-06-11        1     1  41.95469 -87.800991                9  191   \n",
       "3  2008-06-11        4     1  41.95469 -87.800991                9  191   \n",
       "4  2008-06-11        6     1  41.95469 -87.800991                9  191   \n",
       "\n",
       "   month  year  Tmax    ...     DewPoint  PrecipTotal  Sunrise  Sunset  \\\n",
       "0      6  2008  86.0    ...         55.5          0.0    416.0  1926.0   \n",
       "1      6  2008  86.0    ...         55.5          0.0    416.0  1926.0   \n",
       "2      6  2008  86.0    ...         55.5          0.0    416.0  1926.0   \n",
       "3      6  2008  86.0    ...         55.5          0.0    416.0  1926.0   \n",
       "4      6  2008  86.0    ...         55.5          0.0    416.0  1926.0   \n",
       "\n",
       "   month_weather  day_weather      pca1      pca2      pca3      pca4  \n",
       "0            6.0        191.0 -1.514379 -1.779891 -0.967131  0.524445  \n",
       "1            6.0        191.0 -1.514379 -1.779891 -0.967131  0.524445  \n",
       "2            6.0        191.0 -1.514379 -1.779891 -0.967131  0.524445  \n",
       "3            6.0        191.0 -1.514379 -1.779891 -0.967131  0.524445  \n",
       "4            6.0        191.0 -1.514379 -1.779891 -0.967131  0.524445  \n",
       "\n",
       "[5 rows x 23 columns]"
      ]
     },
     "execution_count": 24,
     "metadata": {},
     "output_type": "execute_result"
    }
   ],
   "source": [
    "## need to drop unnamed column that forms from the index of the original dataframe\n",
    "final_joined_pca = final_joined_pca.drop('Unnamed: 0', axis = 1)\n",
    "print final_joined_pca.shape\n",
    "final_joined_pca.head()"
   ]
  },
  {
   "cell_type": "code",
   "execution_count": 25,
   "metadata": {
    "collapsed": true
   },
   "outputs": [],
   "source": [
    "# As above, our features for this will be latitude and longitude. \n",
    "X2 = final_joined_pca[['Latitude', 'Longitude']]"
   ]
  },
  {
   "cell_type": "code",
   "execution_count": 26,
   "metadata": {
    "collapsed": false
   },
   "outputs": [
    {
     "name": "stdout",
     "output_type": "stream",
     "text": [
      "(116293, 1)\n"
     ]
    },
    {
     "data": {
      "text/html": [
       "<div>\n",
       "<table border=\"1\" class=\"dataframe\">\n",
       "  <thead>\n",
       "    <tr style=\"text-align: right;\">\n",
       "      <th></th>\n",
       "      <th>xt_labels</th>\n",
       "    </tr>\n",
       "  </thead>\n",
       "  <tbody>\n",
       "    <tr>\n",
       "      <th>0</th>\n",
       "      <td>7</td>\n",
       "    </tr>\n",
       "    <tr>\n",
       "      <th>1</th>\n",
       "      <td>7</td>\n",
       "    </tr>\n",
       "    <tr>\n",
       "      <th>2</th>\n",
       "      <td>7</td>\n",
       "    </tr>\n",
       "    <tr>\n",
       "      <th>3</th>\n",
       "      <td>7</td>\n",
       "    </tr>\n",
       "    <tr>\n",
       "      <th>4</th>\n",
       "      <td>7</td>\n",
       "    </tr>\n",
       "  </tbody>\n",
       "</table>\n",
       "</div>"
      ],
      "text/plain": [
       "   xt_labels\n",
       "0          7\n",
       "1          7\n",
       "2          7\n",
       "3          7\n",
       "4          7"
      ]
     },
     "execution_count": 26,
     "metadata": {},
     "output_type": "execute_result"
    }
   ],
   "source": [
    "# Here we predict what our test data spray zones will be and set those results equal to a dataframe that we can then join \n",
    "# onto our joined_pca data.\n",
    "\n",
    "\n",
    "\n",
    "label_predicts = etc_fit.predict(X2)\n",
    "xt_labels = pd.DataFrame(label_predicts, columns = ['xt_labels'])\n",
    "print xt_labels.shape\n",
    "xt_labels.head()"
   ]
  },
  {
   "cell_type": "code",
   "execution_count": 27,
   "metadata": {
    "collapsed": true
   },
   "outputs": [],
   "source": [
    "labeled_df = final_joined_pca.join(xt_labels)"
   ]
  },
  {
   "cell_type": "code",
   "execution_count": 28,
   "metadata": {
    "collapsed": false
   },
   "outputs": [
    {
     "name": "stdout",
     "output_type": "stream",
     "text": [
      "(116293, 24)\n"
     ]
    },
    {
     "data": {
      "text/html": [
       "<div>\n",
       "<table border=\"1\" class=\"dataframe\">\n",
       "  <thead>\n",
       "    <tr style=\"text-align: right;\">\n",
       "      <th></th>\n",
       "      <th>Date</th>\n",
       "      <th>Species</th>\n",
       "      <th>Trap</th>\n",
       "      <th>Latitude</th>\n",
       "      <th>Longitude</th>\n",
       "      <th>AddressAccuracy</th>\n",
       "      <th>day</th>\n",
       "      <th>month</th>\n",
       "      <th>year</th>\n",
       "      <th>Tmax</th>\n",
       "      <th>...</th>\n",
       "      <th>PrecipTotal</th>\n",
       "      <th>Sunrise</th>\n",
       "      <th>Sunset</th>\n",
       "      <th>month_weather</th>\n",
       "      <th>day_weather</th>\n",
       "      <th>pca1</th>\n",
       "      <th>pca2</th>\n",
       "      <th>pca3</th>\n",
       "      <th>pca4</th>\n",
       "      <th>xt_labels</th>\n",
       "    </tr>\n",
       "  </thead>\n",
       "  <tbody>\n",
       "    <tr>\n",
       "      <th>0</th>\n",
       "      <td>2008-06-11</td>\n",
       "      <td>2</td>\n",
       "      <td>1</td>\n",
       "      <td>41.95469</td>\n",
       "      <td>-87.800991</td>\n",
       "      <td>9</td>\n",
       "      <td>191</td>\n",
       "      <td>6</td>\n",
       "      <td>2008</td>\n",
       "      <td>86.0</td>\n",
       "      <td>...</td>\n",
       "      <td>0.0</td>\n",
       "      <td>416.0</td>\n",
       "      <td>1926.0</td>\n",
       "      <td>6.0</td>\n",
       "      <td>191.0</td>\n",
       "      <td>-1.514379</td>\n",
       "      <td>-1.779891</td>\n",
       "      <td>-0.967131</td>\n",
       "      <td>0.524445</td>\n",
       "      <td>7</td>\n",
       "    </tr>\n",
       "    <tr>\n",
       "      <th>1</th>\n",
       "      <td>2008-06-11</td>\n",
       "      <td>3</td>\n",
       "      <td>1</td>\n",
       "      <td>41.95469</td>\n",
       "      <td>-87.800991</td>\n",
       "      <td>9</td>\n",
       "      <td>191</td>\n",
       "      <td>6</td>\n",
       "      <td>2008</td>\n",
       "      <td>86.0</td>\n",
       "      <td>...</td>\n",
       "      <td>0.0</td>\n",
       "      <td>416.0</td>\n",
       "      <td>1926.0</td>\n",
       "      <td>6.0</td>\n",
       "      <td>191.0</td>\n",
       "      <td>-1.514379</td>\n",
       "      <td>-1.779891</td>\n",
       "      <td>-0.967131</td>\n",
       "      <td>0.524445</td>\n",
       "      <td>7</td>\n",
       "    </tr>\n",
       "    <tr>\n",
       "      <th>2</th>\n",
       "      <td>2008-06-11</td>\n",
       "      <td>1</td>\n",
       "      <td>1</td>\n",
       "      <td>41.95469</td>\n",
       "      <td>-87.800991</td>\n",
       "      <td>9</td>\n",
       "      <td>191</td>\n",
       "      <td>6</td>\n",
       "      <td>2008</td>\n",
       "      <td>86.0</td>\n",
       "      <td>...</td>\n",
       "      <td>0.0</td>\n",
       "      <td>416.0</td>\n",
       "      <td>1926.0</td>\n",
       "      <td>6.0</td>\n",
       "      <td>191.0</td>\n",
       "      <td>-1.514379</td>\n",
       "      <td>-1.779891</td>\n",
       "      <td>-0.967131</td>\n",
       "      <td>0.524445</td>\n",
       "      <td>7</td>\n",
       "    </tr>\n",
       "    <tr>\n",
       "      <th>3</th>\n",
       "      <td>2008-06-11</td>\n",
       "      <td>4</td>\n",
       "      <td>1</td>\n",
       "      <td>41.95469</td>\n",
       "      <td>-87.800991</td>\n",
       "      <td>9</td>\n",
       "      <td>191</td>\n",
       "      <td>6</td>\n",
       "      <td>2008</td>\n",
       "      <td>86.0</td>\n",
       "      <td>...</td>\n",
       "      <td>0.0</td>\n",
       "      <td>416.0</td>\n",
       "      <td>1926.0</td>\n",
       "      <td>6.0</td>\n",
       "      <td>191.0</td>\n",
       "      <td>-1.514379</td>\n",
       "      <td>-1.779891</td>\n",
       "      <td>-0.967131</td>\n",
       "      <td>0.524445</td>\n",
       "      <td>7</td>\n",
       "    </tr>\n",
       "    <tr>\n",
       "      <th>4</th>\n",
       "      <td>2008-06-11</td>\n",
       "      <td>6</td>\n",
       "      <td>1</td>\n",
       "      <td>41.95469</td>\n",
       "      <td>-87.800991</td>\n",
       "      <td>9</td>\n",
       "      <td>191</td>\n",
       "      <td>6</td>\n",
       "      <td>2008</td>\n",
       "      <td>86.0</td>\n",
       "      <td>...</td>\n",
       "      <td>0.0</td>\n",
       "      <td>416.0</td>\n",
       "      <td>1926.0</td>\n",
       "      <td>6.0</td>\n",
       "      <td>191.0</td>\n",
       "      <td>-1.514379</td>\n",
       "      <td>-1.779891</td>\n",
       "      <td>-0.967131</td>\n",
       "      <td>0.524445</td>\n",
       "      <td>7</td>\n",
       "    </tr>\n",
       "  </tbody>\n",
       "</table>\n",
       "<p>5 rows × 24 columns</p>\n",
       "</div>"
      ],
      "text/plain": [
       "         Date  Species  Trap  Latitude  Longitude  AddressAccuracy  day  \\\n",
       "0  2008-06-11        2     1  41.95469 -87.800991                9  191   \n",
       "1  2008-06-11        3     1  41.95469 -87.800991                9  191   \n",
       "2  2008-06-11        1     1  41.95469 -87.800991                9  191   \n",
       "3  2008-06-11        4     1  41.95469 -87.800991                9  191   \n",
       "4  2008-06-11        6     1  41.95469 -87.800991                9  191   \n",
       "\n",
       "   month  year  Tmax    ...      PrecipTotal  Sunrise  Sunset  month_weather  \\\n",
       "0      6  2008  86.0    ...              0.0    416.0  1926.0            6.0   \n",
       "1      6  2008  86.0    ...              0.0    416.0  1926.0            6.0   \n",
       "2      6  2008  86.0    ...              0.0    416.0  1926.0            6.0   \n",
       "3      6  2008  86.0    ...              0.0    416.0  1926.0            6.0   \n",
       "4      6  2008  86.0    ...              0.0    416.0  1926.0            6.0   \n",
       "\n",
       "   day_weather      pca1      pca2      pca3      pca4  xt_labels  \n",
       "0        191.0 -1.514379 -1.779891 -0.967131  0.524445          7  \n",
       "1        191.0 -1.514379 -1.779891 -0.967131  0.524445          7  \n",
       "2        191.0 -1.514379 -1.779891 -0.967131  0.524445          7  \n",
       "3        191.0 -1.514379 -1.779891 -0.967131  0.524445          7  \n",
       "4        191.0 -1.514379 -1.779891 -0.967131  0.524445          7  \n",
       "\n",
       "[5 rows x 24 columns]"
      ]
     },
     "execution_count": 28,
     "metadata": {},
     "output_type": "execute_result"
    }
   ],
   "source": [
    "print labeled_df.shape\n",
    "labeled_df.head()"
   ]
  },
  {
   "cell_type": "code",
   "execution_count": 29,
   "metadata": {
    "collapsed": true
   },
   "outputs": [],
   "source": [
    "features = ['Species', 'Trap', 'Latitude', 'Longitude', 'AddressAccuracy', 'day_weather', 'PrecipTotal', \n",
    "           'pca1', 'pca2', 'pca3', 'pca4', 'xt_labels', 'year']\n",
    "X = labeled_df[features]\n"
   ]
  },
  {
   "cell_type": "code",
   "execution_count": 30,
   "metadata": {
    "collapsed": true
   },
   "outputs": [],
   "source": [
    "test_pred_proba = voter_fit.predict_proba(X)"
   ]
  },
  {
   "cell_type": "code",
   "execution_count": 31,
   "metadata": {
    "collapsed": false
   },
   "outputs": [
    {
     "data": {
      "text/html": [
       "<div>\n",
       "<table border=\"1\" class=\"dataframe\">\n",
       "  <thead>\n",
       "    <tr style=\"text-align: right;\">\n",
       "      <th></th>\n",
       "      <th>prob_0</th>\n",
       "      <th>prob_1</th>\n",
       "    </tr>\n",
       "  </thead>\n",
       "  <tbody>\n",
       "    <tr>\n",
       "      <th>0</th>\n",
       "      <td>0.874417</td>\n",
       "      <td>0.125583</td>\n",
       "    </tr>\n",
       "    <tr>\n",
       "      <th>1</th>\n",
       "      <td>0.967428</td>\n",
       "      <td>0.032572</td>\n",
       "    </tr>\n",
       "    <tr>\n",
       "      <th>2</th>\n",
       "      <td>0.950580</td>\n",
       "      <td>0.049420</td>\n",
       "    </tr>\n",
       "    <tr>\n",
       "      <th>3</th>\n",
       "      <td>0.969792</td>\n",
       "      <td>0.030208</td>\n",
       "    </tr>\n",
       "    <tr>\n",
       "      <th>4</th>\n",
       "      <td>0.969789</td>\n",
       "      <td>0.030211</td>\n",
       "    </tr>\n",
       "  </tbody>\n",
       "</table>\n",
       "</div>"
      ],
      "text/plain": [
       "     prob_0    prob_1\n",
       "0  0.874417  0.125583\n",
       "1  0.967428  0.032572\n",
       "2  0.950580  0.049420\n",
       "3  0.969792  0.030208\n",
       "4  0.969789  0.030211"
      ]
     },
     "execution_count": 31,
     "metadata": {},
     "output_type": "execute_result"
    }
   ],
   "source": [
    "test_proba_df = pd.DataFrame(test_pred_proba, columns = ['prob_0', 'prob_1'])\n",
    "test_proba_df.head()"
   ]
  },
  {
   "cell_type": "code",
   "execution_count": 32,
   "metadata": {
    "collapsed": false
   },
   "outputs": [
    {
     "data": {
      "text/html": [
       "<div>\n",
       "<table border=\"1\" class=\"dataframe\">\n",
       "  <thead>\n",
       "    <tr style=\"text-align: right;\">\n",
       "      <th></th>\n",
       "      <th>prob_1</th>\n",
       "    </tr>\n",
       "    <tr>\n",
       "      <th>Id</th>\n",
       "      <th></th>\n",
       "    </tr>\n",
       "  </thead>\n",
       "  <tbody>\n",
       "    <tr>\n",
       "      <th>1</th>\n",
       "      <td>0.125583</td>\n",
       "    </tr>\n",
       "    <tr>\n",
       "      <th>2</th>\n",
       "      <td>0.032572</td>\n",
       "    </tr>\n",
       "    <tr>\n",
       "      <th>3</th>\n",
       "      <td>0.049420</td>\n",
       "    </tr>\n",
       "    <tr>\n",
       "      <th>4</th>\n",
       "      <td>0.030208</td>\n",
       "    </tr>\n",
       "    <tr>\n",
       "      <th>5</th>\n",
       "      <td>0.030211</td>\n",
       "    </tr>\n",
       "  </tbody>\n",
       "</table>\n",
       "</div>"
      ],
      "text/plain": [
       "      prob_1\n",
       "Id          \n",
       "1   0.125583\n",
       "2   0.032572\n",
       "3   0.049420\n",
       "4   0.030208\n",
       "5   0.030211"
      ]
     },
     "execution_count": 32,
     "metadata": {},
     "output_type": "execute_result"
    }
   ],
   "source": [
    "test_proba_df['Id'] = range(1, 116294)\n",
    "test_proba_df.set_index('Id', inplace = True)\n",
    "test_proba_df.drop('prob_0', axis = 1, inplace = True)\n",
    "test_proba_df.head()"
   ]
  },
  {
   "cell_type": "code",
   "execution_count": 33,
   "metadata": {
    "collapsed": false
   },
   "outputs": [
    {
     "data": {
      "text/html": [
       "<div>\n",
       "<table border=\"1\" class=\"dataframe\">\n",
       "  <thead>\n",
       "    <tr style=\"text-align: right;\">\n",
       "      <th></th>\n",
       "      <th>WnvPresent</th>\n",
       "    </tr>\n",
       "    <tr>\n",
       "      <th>Id</th>\n",
       "      <th></th>\n",
       "    </tr>\n",
       "  </thead>\n",
       "  <tbody>\n",
       "    <tr>\n",
       "      <th>1</th>\n",
       "      <td>0.125583</td>\n",
       "    </tr>\n",
       "    <tr>\n",
       "      <th>2</th>\n",
       "      <td>0.032572</td>\n",
       "    </tr>\n",
       "    <tr>\n",
       "      <th>3</th>\n",
       "      <td>0.049420</td>\n",
       "    </tr>\n",
       "    <tr>\n",
       "      <th>4</th>\n",
       "      <td>0.030208</td>\n",
       "    </tr>\n",
       "    <tr>\n",
       "      <th>5</th>\n",
       "      <td>0.030211</td>\n",
       "    </tr>\n",
       "  </tbody>\n",
       "</table>\n",
       "</div>"
      ],
      "text/plain": [
       "    WnvPresent\n",
       "Id            \n",
       "1     0.125583\n",
       "2     0.032572\n",
       "3     0.049420\n",
       "4     0.030208\n",
       "5     0.030211"
      ]
     },
     "execution_count": 33,
     "metadata": {},
     "output_type": "execute_result"
    }
   ],
   "source": [
    "test_proba_df.columns = ['WnvPresent']\n",
    "test_proba_df.head()"
   ]
  },
  {
   "cell_type": "code",
   "execution_count": 34,
   "metadata": {
    "collapsed": true
   },
   "outputs": [],
   "source": [
    "test_proba_df.to_csv('test_data_predictions.csv')"
   ]
  },
  {
   "cell_type": "code",
   "execution_count": null,
   "metadata": {
    "collapsed": true
   },
   "outputs": [],
   "source": []
  }
 ],
 "metadata": {
  "kernelspec": {
   "display_name": "Python 2",
   "language": "python",
   "name": "python2"
  },
  "language_info": {
   "codemirror_mode": {
    "name": "ipython",
    "version": 2
   },
   "file_extension": ".py",
   "mimetype": "text/x-python",
   "name": "python",
   "nbconvert_exporter": "python",
   "pygments_lexer": "ipython2",
   "version": "2.7.11"
  }
 },
 "nbformat": 4,
 "nbformat_minor": 0
}
